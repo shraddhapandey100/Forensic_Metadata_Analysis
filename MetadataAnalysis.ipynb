{
  "nbformat": 4,
  "nbformat_minor": 0,
  "metadata": {
    "colab": {
      "provenance": [],
      "toc_visible": true,
      "authorship_tag": "ABX9TyMFX/mlZERW2EJWmlG2jPp2",
      "include_colab_link": true
    },
    "kernelspec": {
      "name": "python3",
      "display_name": "Python 3"
    },
    "language_info": {
      "name": "python"
    }
  },
  "cells": [
    {
      "cell_type": "markdown",
      "metadata": {
        "id": "view-in-github",
        "colab_type": "text"
      },
      "source": [
        "<a href=\"https://colab.research.google.com/github/shraddhapandey100/Forensic_Metadata_Analysis/blob/master/MetadataAnalysis.ipynb\" target=\"_parent\"><img src=\"https://colab.research.google.com/assets/colab-badge.svg\" alt=\"Open In Colab\"/></a>"
      ]
    },
    {
      "cell_type": "code",
      "execution_count": null,
      "metadata": {
        "colab": {
          "base_uri": "https://localhost:8080/"
        },
        "id": "MKS7dZ6lJj-n",
        "outputId": "6e122270-cd0f-4496-f763-3bd05fed58d2"
      },
      "outputs": [
        {
          "output_type": "stream",
          "name": "stdout",
          "text": [
            "Collecting pyexiftool\n",
            "  Downloading PyExifTool-0.5.6-py3-none-any.whl.metadata (11 kB)\n",
            "Downloading PyExifTool-0.5.6-py3-none-any.whl (51 kB)\n",
            "\u001b[?25l   \u001b[90m━━━━━━━━━━━━━━━━━━━━━━━━━━━━━━━━━━━━━━━━\u001b[0m \u001b[32m0.0/51.2 kB\u001b[0m \u001b[31m?\u001b[0m eta \u001b[36m-:--:--\u001b[0m\r\u001b[2K   \u001b[90m━━━━━━━━━━━━━━━━━━━━━━━━━━━━━━━━━━━━━━━━\u001b[0m \u001b[32m51.2/51.2 kB\u001b[0m \u001b[31m1.6 MB/s\u001b[0m eta \u001b[36m0:00:00\u001b[0m\n",
            "\u001b[?25hInstalling collected packages: pyexiftool\n",
            "Successfully installed pyexiftool-0.5.6\n"
          ]
        }
      ],
      "source": [
        "!pip install pyexiftool\n"
      ]
    },
    {
      "cell_type": "code",
      "source": [
        "!apt-get install -y exiftool\n"
      ],
      "metadata": {
        "colab": {
          "base_uri": "https://localhost:8080/"
        },
        "id": "k8-6SbVR6cwq",
        "outputId": "44932547-18be-4846-a0e4-55f6fab6deaf"
      },
      "execution_count": null,
      "outputs": [
        {
          "output_type": "stream",
          "name": "stdout",
          "text": [
            "Reading package lists... Done\n",
            "Building dependency tree... Done\n",
            "Reading state information... Done\n",
            "Note, selecting 'libimage-exiftool-perl' instead of 'exiftool'\n",
            "The following additional packages will be installed:\n",
            "  libarchive-zip-perl libmime-charset-perl libsombok3 libunicode-linebreak-perl\n",
            "Suggested packages:\n",
            "  libposix-strptime-perl libencode-hanextra-perl libpod2-base-perl\n",
            "The following NEW packages will be installed:\n",
            "  libarchive-zip-perl libimage-exiftool-perl libmime-charset-perl libsombok3\n",
            "  libunicode-linebreak-perl\n",
            "0 upgraded, 5 newly installed, 0 to remove and 49 not upgraded.\n",
            "Need to get 3,964 kB of archives.\n",
            "After this operation, 23.5 MB of additional disk space will be used.\n",
            "Get:1 http://archive.ubuntu.com/ubuntu jammy/main amd64 libarchive-zip-perl all 1.68-1 [90.2 kB]\n",
            "Get:2 http://archive.ubuntu.com/ubuntu jammy/universe amd64 libimage-exiftool-perl all 12.40+dfsg-1 [3,717 kB]\n",
            "Get:3 http://archive.ubuntu.com/ubuntu jammy/universe amd64 libmime-charset-perl all 1.012.2-1 [30.9 kB]\n",
            "Get:4 http://archive.ubuntu.com/ubuntu jammy/universe amd64 libsombok3 amd64 2.4.0-2 [26.9 kB]\n",
            "Get:5 http://archive.ubuntu.com/ubuntu jammy/universe amd64 libunicode-linebreak-perl amd64 0.0.20190101-1build3 [99.1 kB]\n",
            "Fetched 3,964 kB in 1s (3,504 kB/s)\n",
            "Selecting previously unselected package libarchive-zip-perl.\n",
            "(Reading database ... 123633 files and directories currently installed.)\n",
            "Preparing to unpack .../libarchive-zip-perl_1.68-1_all.deb ...\n",
            "Unpacking libarchive-zip-perl (1.68-1) ...\n",
            "Selecting previously unselected package libimage-exiftool-perl.\n",
            "Preparing to unpack .../libimage-exiftool-perl_12.40+dfsg-1_all.deb ...\n",
            "Unpacking libimage-exiftool-perl (12.40+dfsg-1) ...\n",
            "Selecting previously unselected package libmime-charset-perl.\n",
            "Preparing to unpack .../libmime-charset-perl_1.012.2-1_all.deb ...\n",
            "Unpacking libmime-charset-perl (1.012.2-1) ...\n",
            "Selecting previously unselected package libsombok3:amd64.\n",
            "Preparing to unpack .../libsombok3_2.4.0-2_amd64.deb ...\n",
            "Unpacking libsombok3:amd64 (2.4.0-2) ...\n",
            "Selecting previously unselected package libunicode-linebreak-perl.\n",
            "Preparing to unpack .../libunicode-linebreak-perl_0.0.20190101-1build3_amd64.deb ...\n",
            "Unpacking libunicode-linebreak-perl (0.0.20190101-1build3) ...\n",
            "Setting up libsombok3:amd64 (2.4.0-2) ...\n",
            "Setting up libarchive-zip-perl (1.68-1) ...\n",
            "Setting up libimage-exiftool-perl (12.40+dfsg-1) ...\n",
            "Setting up libmime-charset-perl (1.012.2-1) ...\n",
            "Setting up libunicode-linebreak-perl (0.0.20190101-1build3) ...\n",
            "Processing triggers for man-db (2.10.2-1) ...\n",
            "Processing triggers for libc-bin (2.35-0ubuntu3.4) ...\n",
            "/sbin/ldconfig.real: /usr/local/lib/libumf.so.0 is not a symbolic link\n",
            "\n",
            "/sbin/ldconfig.real: /usr/local/lib/libtcm_debug.so.1 is not a symbolic link\n",
            "\n",
            "/sbin/ldconfig.real: /usr/local/lib/libhwloc.so.15 is not a symbolic link\n",
            "\n",
            "/sbin/ldconfig.real: /usr/local/lib/libtbbbind.so.3 is not a symbolic link\n",
            "\n",
            "/sbin/ldconfig.real: /usr/local/lib/libtbbmalloc.so.2 is not a symbolic link\n",
            "\n",
            "/sbin/ldconfig.real: /usr/local/lib/libtbbbind_2_0.so.3 is not a symbolic link\n",
            "\n",
            "/sbin/ldconfig.real: /usr/local/lib/libtbb.so.12 is not a symbolic link\n",
            "\n",
            "/sbin/ldconfig.real: /usr/local/lib/libtbbbind_2_5.so.3 is not a symbolic link\n",
            "\n",
            "/sbin/ldconfig.real: /usr/local/lib/libtbbmalloc_proxy.so.2 is not a symbolic link\n",
            "\n",
            "/sbin/ldconfig.real: /usr/local/lib/libtcm.so.1 is not a symbolic link\n",
            "\n",
            "/sbin/ldconfig.real: /usr/local/lib/libur_adapter_level_zero.so.0 is not a symbolic link\n",
            "\n",
            "/sbin/ldconfig.real: /usr/local/lib/libur_adapter_opencl.so.0 is not a symbolic link\n",
            "\n",
            "/sbin/ldconfig.real: /usr/local/lib/libur_loader.so.0 is not a symbolic link\n",
            "\n"
          ]
        }
      ]
    },
    {
      "cell_type": "markdown",
      "source": [
        "\n",
        "\n",
        "```\n",
        "# This is formatted as code\n",
        "```\n",
        "\n",
        "**2. Metadata Extraction**\n",
        "Purpose: Extract metadata from WhatsApp media files.\n",
        "Implementation: Use the exiftool via subprocess."
      ],
      "metadata": {
        "id": "xrSY-9DtA7C0"
      }
    },
    {
      "cell_type": "code",
      "source": [
        "import subprocess\n",
        "\n",
        "def extract_metadata(file_path):\n",
        "    try:\n",
        "        # Run exiftool command\n",
        "        result = subprocess.run([\"exiftool\", file_path], stdout=subprocess.PIPE, stderr=subprocess.PIPE, text=True)\n",
        "\n",
        "        # Check if there were errors\n",
        "        if result.stderr:\n",
        "            print(f\"Error: {result.stderr}\")\n",
        "        else:\n",
        "            print(result.stdout)\n",
        "    except Exception as e:\n",
        "        print(f\"An error occurred: {e}\")\n",
        "\n",
        "# Example usage\n",
        "# Upload a file to Colab before running this\n",
        "extract_metadata(\"/content/deleted_media.png\")  # Provide the correct file path\n",
        "\n",
        "\n",
        "\n",
        "\n"
      ],
      "metadata": {
        "colab": {
          "base_uri": "https://localhost:8080/"
        },
        "id": "PHsy8Ig3KTTD",
        "outputId": "72185d1c-73aa-4771-8c67-c112faddb6b9"
      },
      "execution_count": null,
      "outputs": [
        {
          "output_type": "stream",
          "name": "stdout",
          "text": [
            "ExifTool Version Number         : 12.40\n",
            "File Name                       : deleted_media.png\n",
            "Directory                       : /content\n",
            "File Size                       : 1235 KiB\n",
            "File Modification Date/Time     : 2024:12:16 15:57:36+00:00\n",
            "File Access Date/Time           : 2024:12:16 15:57:36+00:00\n",
            "File Inode Change Date/Time     : 2024:12:16 15:57:36+00:00\n",
            "File Permissions                : -rw-r--r--\n",
            "File Type                       : PNG\n",
            "File Type Extension             : png\n",
            "MIME Type                       : image/png\n",
            "Image Width                     : 968\n",
            "Image Height                    : 543\n",
            "Bit Depth                       : 8\n",
            "Color Type                      : RGB with Alpha\n",
            "Compression                     : Deflate/Inflate\n",
            "Filter                          : Adaptive\n",
            "Interlace                       : Noninterlaced\n",
            "SRGB Rendering                  : Perceptual\n",
            "Gamma                           : 2.2\n",
            "Pixels Per Unit X               : 4724\n",
            "Pixels Per Unit Y               : 4724\n",
            "Pixel Units                     : meters\n",
            "Image Size                      : 968x543\n",
            "Megapixels                      : 0.526\n",
            "\n"
          ]
        }
      ]
    },
    {
      "cell_type": "markdown",
      "source": [
        "\n",
        "\n",
        "```\n",
        "# This is formatted as code\n",
        "```\n",
        "\n",
        "**Analysis** using the Isolation Forest algorithm."
      ],
      "metadata": {
        "id": "mBw4mpE2BcfO"
      }
    },
    {
      "cell_type": "code",
      "source": [
        "import pandas as pd\n",
        "from sklearn.ensemble import IsolationForest\n",
        "\n",
        "# Load the dataset\n",
        "file_path = '/content/metadata.csv'  # Replace with the actual file path\n",
        "data = pd.read_csv(file_path)\n",
        "\n",
        "# Preprocessing: Select relevant features for anomaly detection\n",
        "data_cleaned = data[['Size', 'Flags(Dir)', 'Flags(Meta)', 'Known']].copy()\n",
        "data_cleaned['Flags(Dir)'] = data_cleaned['Flags(Dir)'].map({'Unallocated': 0, 'Allocated': 1})\n",
        "data_cleaned['Flags(Meta)'] = data_cleaned['Flags(Meta)'].map({'Unallocated': 0, 'Allocated': 1})\n",
        "data_cleaned['Known'] = data_cleaned['Known'].map({'unknown': 0, 'known': 1})\n",
        "\n",
        "# Fit Isolation Forest for anomaly detection\n",
        "isolation_forest = IsolationForest(random_state=42, contamination=0.25)  # Assuming 25% anomalies\n",
        "data_cleaned['Anomaly'] = isolation_forest.fit_predict(data_cleaned[['Size', 'Flags(Dir)', 'Flags(Meta)', 'Known']])\n",
        "\n",
        "# Add anomaly labels to the original dataset for review\n",
        "data['Anomaly'] = data_cleaned['Anomaly']\n",
        "\n",
        "# Display files with anomaly labels\n",
        "print(data[['Name', 'Size', 'Flags(Dir)', 'Flags(Meta)', 'Known', 'Anomaly']])\n",
        "\n",
        "# Additional analysis for anomalies: Review anomalies separately\n",
        "anomalous_files = data[data['Anomaly'] == -1]\n",
        "\n",
        "# Output anomalous files for further investigation\n",
        "print(\"Anomalous Files Detected:\")\n",
        "print(anomalous_files)\n",
        "\n"
      ],
      "metadata": {
        "colab": {
          "base_uri": "https://localhost:8080/"
        },
        "id": "pKD3PzA9Abv6",
        "outputId": "bb1ff3ab-a21a-447a-dfd7-3373192a4165"
      },
      "execution_count": null,
      "outputs": [
        {
          "output_type": "stream",
          "name": "stdout",
          "text": [
            "                Name    Size   Flags(Dir)  Flags(Meta)    Known  Anomaly\n",
            "0       f0000000.jpg  193623  Unallocated  Unallocated  unknown       -1\n",
            "1       f0000000.jpg   42917  Unallocated  Unallocated  unknown        1\n",
            "2  f0000000_ftyp.mov   24799  Unallocated  Unallocated  unknown        1\n",
            "3       f0000000.jpg  109181  Unallocated  Unallocated  unknown        1\n",
            "Anomalous Files Detected:\n",
            "           Name        Modified Time          Change Time  \\\n",
            "0  f0000000.jpg  0000-00-00 00:00:00  0000-00-00 00:00:00   \n",
            "\n",
            "           Access Time         Created Time    Size   Flags(Dir)  Flags(Meta)  \\\n",
            "0  0000-00-00 00:00:00  0000-00-00 00:00:00  193623  Unallocated  Unallocated   \n",
            "\n",
            "     Known                                           Location  \\\n",
            "0  unknown  /img_7000048698cd17764efd245fb7e9da226814cb40....   \n",
            "\n",
            "                           MD5 Hash  \\\n",
            "0  6a04d27e9d3edb99d55df66db899e03a   \n",
            "\n",
            "                                        SHA-256 Hash   MIME Type Extension  \\\n",
            "0  28e13322d33e41200fa6ca4d05e22bd7d9ab8a713d6171...  image/jpeg       jpg   \n",
            "\n",
            "   Anomaly  \n",
            "0       -1  \n"
          ]
        }
      ]
    },
    {
      "cell_type": "markdown",
      "source": [
        "**Visualization:**Visualizing anomalies with a scatter plot."
      ],
      "metadata": {
        "id": "bzoV_xTLMgOW"
      }
    },
    {
      "cell_type": "code",
      "source": [
        "import matplotlib.pyplot as plt\n",
        "plt.scatter(data['Size'], data['Flags(Dir)'], c=data['Anomaly'], cmap='coolwarm')\n",
        "plt.xlabel('File Size')\n",
        "plt.ylabel('Flags (Dir)')\n",
        "plt.title('Anomaly Detection: File Size vs Allocation Flags')\n",
        "plt.colorbar(label='Anomaly Status (-1 for Anomalous, 1 for Normal)')\n",
        "plt.show()"
      ],
      "metadata": {
        "colab": {
          "base_uri": "https://localhost:8080/",
          "height": 472
        },
        "id": "-bz0mCqBMZ74",
        "outputId": "f20c401b-d60e-4173-a8fa-a065cd515170"
      },
      "execution_count": null,
      "outputs": [
        {
          "output_type": "display_data",
          "data": {
            "text/plain": [
              "<Figure size 640x480 with 2 Axes>"
            ],
            "image/png": "[encoded data removed]"
          },
          "metadata": {}
        }
      ]
    },
    {
      "cell_type": "markdown",
      "source": [
        "**6. Report Generation**\n",
        "JSON (Python json module)\n",
        "Purpose: Structure forensic data."
      ],
      "metadata": {
        "id": "CuTaY1uNBYtb"
      }
    },
    {
      "cell_type": "code",
      "source": [
        "import json\n",
        "import pandas as pd\n",
        "\n",
        "# Load the dataset\n",
        "file_path = '/content/metadata.csv'  # Replace with your actual file path\n",
        "data = pd.read_csv(file_path)\n",
        "\n",
        "# Preprocess the data if needed (mapping the categorical variables to numeric or other formats)\n",
        "data_cleaned = data[['Name', 'Size', 'Flags(Dir)', 'Flags(Meta)', 'Known']].copy()\n",
        "data_cleaned['Flags(Dir)'] = data_cleaned['Flags(Dir)'].map({'Unallocated': 0, 'Allocated': 1})\n",
        "data_cleaned['Flags(Meta)'] = data_cleaned['Flags(Meta)'].map({'Unallocated': 0, 'Allocated': 1})\n",
        "data_cleaned['Known'] = data_cleaned['Known'].map({'unknown': 0, 'known': 1})\n",
        "\n",
        "# Initialize a list to store forensic report data\n",
        "forensic_reports = []\n",
        "\n",
        "# Iterate over each row in the cleaned data to create the forensic report\n",
        "for index, row in data_cleaned.iterrows():\n",
        "    report_data = {\n",
        "        \"File\": row['Name'],\n",
        "        \"Metadata\": {\n",
        "            \"Size\": row['Size'],\n",
        "            \"Flags(Dir)\": row['Flags(Dir)'],\n",
        "            \"Flags(Meta)\": row['Flags(Meta)'],\n",
        "            \"Known\": row['Known']\n",
        "        }\n",
        "    }\n",
        "    forensic_reports.append(report_data)\n",
        "\n",
        "# Save the reports as a JSON file\n",
        "json_file_path = 'forensic_report.json'  # Output path for JSON file\n",
        "with open(json_file_path, \"w\") as file:\n",
        "    json.dump(forensic_reports, file, indent=4)\n",
        "\n",
        "print(f\"Report saved to {json_file_path}\")\n"
      ],
      "metadata": {
        "id": "5nEwO4zfApcv",
        "colab": {
          "base_uri": "https://localhost:8080/"
        },
        "outputId": "fec1681a-6661-4634-a760-c92f4bd2c764"
      },
      "execution_count": null,
      "outputs": [
        {
          "output_type": "stream",
          "name": "stdout",
          "text": [
            "Report saved to forensic_report.json\n"
          ]
        }
      ]
    },
    {
      "cell_type": "markdown",
      "source": [],
      "metadata": {
        "id": "sSPIpa65SDKd"
      }
    }
  ]
}