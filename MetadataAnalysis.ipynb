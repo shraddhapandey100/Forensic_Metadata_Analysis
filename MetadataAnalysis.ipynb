{
  "nbformat": 4,
  "nbformat_minor": 0,
  "metadata": {
    "colab": {
      "provenance": [],
      "authorship_tag": "ABX9TyPhrK6TXEwJeNqNAaINoOV+",
      "include_colab_link": true
    },
    "kernelspec": {
      "name": "python3",
      "display_name": "Python 3"
    },
    "language_info": {
      "name": "python"
    }
  },
  "cells": [
    {
      "cell_type": "markdown",
      "metadata": {
        "id": "view-in-github",
        "colab_type": "text"
      },
      "source": [
        "<a href=\"https://colab.research.google.com/github/shraddhapandey100/Forensic_Metadata_Analysis/blob/master/MetadataAnalysis.ipynb\" target=\"_parent\"><img src=\"https://colab.research.google.com/assets/colab-badge.svg\" alt=\"Open In Colab\"/></a>"
      ]
    },
    {
      "cell_type": "code",
      "execution_count": 4,
      "metadata": {
        "colab": {
          "base_uri": "https://localhost:8080/"
        },
        "id": "MKS7dZ6lJj-n",
        "outputId": "358d4e1d-b31b-43a0-abf7-72ed1f761887"
      },
      "outputs": [
        {
          "output_type": "stream",
          "name": "stdout",
          "text": [
            "Collecting pyexiftool\n",
            "  Downloading PyExifTool-0.5.6-py3-none-any.whl.metadata (11 kB)\n",
            "Downloading PyExifTool-0.5.6-py3-none-any.whl (51 kB)\n",
            "\u001b[?25l   \u001b[90m━━━━━━━━━━━━━━━━━━━━━━━━━━━━━━━━━━━━━━━━\u001b[0m \u001b[32m0.0/51.2 kB\u001b[0m \u001b[31m?\u001b[0m eta \u001b[36m-:--:--\u001b[0m\r\u001b[2K   \u001b[90m━━━━━━━━━━━━━━━━━━━━━━━━━━━━━━━━━━━━━━━━\u001b[0m \u001b[32m51.2/51.2 kB\u001b[0m \u001b[31m3.4 MB/s\u001b[0m eta \u001b[36m0:00:00\u001b[0m\n",
            "\u001b[?25hInstalling collected packages: pyexiftool\n",
            "Successfully installed pyexiftool-0.5.6\n"
          ]
        }
      ],
      "source": [
        "!pip install pyexiftool\n"
      ]
    },
    {
      "cell_type": "code",
      "source": [
        "!apt-get install -y exiftool\n"
      ],
      "metadata": {
        "colab": {
          "base_uri": "https://localhost:8080/"
        },
        "id": "k8-6SbVR6cwq",
        "outputId": "6b77d34e-f8b6-484a-f7fb-ebd0116ccde5"
      },
      "execution_count": 5,
      "outputs": [
        {
          "output_type": "stream",
          "name": "stdout",
          "text": [
            "Reading package lists... Done\n",
            "Building dependency tree... Done\n",
            "Reading state information... Done\n",
            "Note, selecting 'libimage-exiftool-perl' instead of 'exiftool'\n",
            "The following additional packages will be installed:\n",
            "  libarchive-zip-perl libmime-charset-perl libsombok3 libunicode-linebreak-perl\n",
            "Suggested packages:\n",
            "  libposix-strptime-perl libencode-hanextra-perl libpod2-base-perl\n",
            "The following NEW packages will be installed:\n",
            "  libarchive-zip-perl libimage-exiftool-perl libmime-charset-perl libsombok3\n",
            "  libunicode-linebreak-perl\n",
            "0 upgraded, 5 newly installed, 0 to remove and 49 not upgraded.\n",
            "Need to get 3,964 kB of archives.\n",
            "After this operation, 23.5 MB of additional disk space will be used.\n",
            "Get:1 http://archive.ubuntu.com/ubuntu jammy/main amd64 libarchive-zip-perl all 1.68-1 [90.2 kB]\n",
            "Get:2 http://archive.ubuntu.com/ubuntu jammy/universe amd64 libimage-exiftool-perl all 12.40+dfsg-1 [3,717 kB]\n",
            "Get:3 http://archive.ubuntu.com/ubuntu jammy/universe amd64 libmime-charset-perl all 1.012.2-1 [30.9 kB]\n",
            "Get:4 http://archive.ubuntu.com/ubuntu jammy/universe amd64 libsombok3 amd64 2.4.0-2 [26.9 kB]\n",
            "Get:5 http://archive.ubuntu.com/ubuntu jammy/universe amd64 libunicode-linebreak-perl amd64 0.0.20190101-1build3 [99.1 kB]\n",
            "Fetched 3,964 kB in 1s (4,138 kB/s)\n",
            "Selecting previously unselected package libarchive-zip-perl.\n",
            "(Reading database ... 123633 files and directories currently installed.)\n",
            "Preparing to unpack .../libarchive-zip-perl_1.68-1_all.deb ...\n",
            "Unpacking libarchive-zip-perl (1.68-1) ...\n",
            "Selecting previously unselected package libimage-exiftool-perl.\n",
            "Preparing to unpack .../libimage-exiftool-perl_12.40+dfsg-1_all.deb ...\n",
            "Unpacking libimage-exiftool-perl (12.40+dfsg-1) ...\n",
            "Selecting previously unselected package libmime-charset-perl.\n",
            "Preparing to unpack .../libmime-charset-perl_1.012.2-1_all.deb ...\n",
            "Unpacking libmime-charset-perl (1.012.2-1) ...\n",
            "Selecting previously unselected package libsombok3:amd64.\n",
            "Preparing to unpack .../libsombok3_2.4.0-2_amd64.deb ...\n",
            "Unpacking libsombok3:amd64 (2.4.0-2) ...\n",
            "Selecting previously unselected package libunicode-linebreak-perl.\n",
            "Preparing to unpack .../libunicode-linebreak-perl_0.0.20190101-1build3_amd64.deb ...\n",
            "Unpacking libunicode-linebreak-perl (0.0.20190101-1build3) ...\n",
            "Setting up libsombok3:amd64 (2.4.0-2) ...\n",
            "Setting up libarchive-zip-perl (1.68-1) ...\n",
            "Setting up libimage-exiftool-perl (12.40+dfsg-1) ...\n",
            "Setting up libmime-charset-perl (1.012.2-1) ...\n",
            "Setting up libunicode-linebreak-perl (0.0.20190101-1build3) ...\n",
            "Processing triggers for man-db (2.10.2-1) ...\n",
            "Processing triggers for libc-bin (2.35-0ubuntu3.4) ...\n",
            "/sbin/ldconfig.real: /usr/local/lib/libhwloc.so.15 is not a symbolic link\n",
            "\n",
            "/sbin/ldconfig.real: /usr/local/lib/libur_adapter_level_zero.so.0 is not a symbolic link\n",
            "\n",
            "/sbin/ldconfig.real: /usr/local/lib/libtbbmalloc.so.2 is not a symbolic link\n",
            "\n",
            "/sbin/ldconfig.real: /usr/local/lib/libur_loader.so.0 is not a symbolic link\n",
            "\n",
            "/sbin/ldconfig.real: /usr/local/lib/libtbbmalloc_proxy.so.2 is not a symbolic link\n",
            "\n",
            "/sbin/ldconfig.real: /usr/local/lib/libtbbbind_2_5.so.3 is not a symbolic link\n",
            "\n",
            "/sbin/ldconfig.real: /usr/local/lib/libumf.so.0 is not a symbolic link\n",
            "\n",
            "/sbin/ldconfig.real: /usr/local/lib/libtcm.so.1 is not a symbolic link\n",
            "\n",
            "/sbin/ldconfig.real: /usr/local/lib/libtcm_debug.so.1 is not a symbolic link\n",
            "\n",
            "/sbin/ldconfig.real: /usr/local/lib/libtbb.so.12 is not a symbolic link\n",
            "\n",
            "/sbin/ldconfig.real: /usr/local/lib/libtbbbind_2_0.so.3 is not a symbolic link\n",
            "\n",
            "/sbin/ldconfig.real: /usr/local/lib/libtbbbind.so.3 is not a symbolic link\n",
            "\n",
            "/sbin/ldconfig.real: /usr/local/lib/libur_adapter_opencl.so.0 is not a symbolic link\n",
            "\n"
          ]
        }
      ]
    },
    {
      "cell_type": "markdown",
      "source": [
        "**2. Media Analysis**\n",
        "Purpose: Extract metadata from WhatsApp media files.\n",
        "Implementation: Use the exiftool via subprocess."
      ],
      "metadata": {
        "id": "xrSY-9DtA7C0"
      }
    },
    {
      "cell_type": "code",
      "source": [
        "import subprocess\n",
        "\n",
        "def extract_metadata(file_path):\n",
        "    try:\n",
        "        # Run exiftool command\n",
        "        result = subprocess.run([\"exiftool\", file_path], stdout=subprocess.PIPE, stderr=subprocess.PIPE, text=True)\n",
        "\n",
        "        # Check if there were errors\n",
        "        if result.stderr:\n",
        "            print(f\"Error: {result.stderr}\")\n",
        "        else:\n",
        "            print(result.stdout)\n",
        "    except Exception as e:\n",
        "        print(f\"An error occurred: {e}\")\n",
        "\n",
        "# Example usage\n",
        "# Upload a file to Colab before running this\n",
        "extract_metadata(\"/example.png\")  # Provide the correct file path\n",
        "\n",
        "\n",
        "\n",
        "\n"
      ],
      "metadata": {
        "colab": {
          "base_uri": "https://localhost:8080/"
        },
        "id": "PHsy8Ig3KTTD",
        "outputId": "ae163880-caf4-43ec-becd-27cfa10a244c"
      },
      "execution_count": 6,
      "outputs": [
        {
          "output_type": "stream",
          "name": "stdout",
          "text": [
            "ExifTool Version Number         : 12.40\n",
            "File Name                       : example.png\n",
            "Directory                       : /\n",
            "File Size                       : 1235 KiB\n",
            "File Modification Date/Time     : 2024:12:12 08:30:35+00:00\n",
            "File Access Date/Time           : 2024:12:12 08:30:33+00:00\n",
            "File Inode Change Date/Time     : 2024:12:12 08:31:01+00:00\n",
            "File Permissions                : -rw-r--r--\n",
            "File Type                       : PNG\n",
            "File Type Extension             : png\n",
            "MIME Type                       : image/png\n",
            "Image Width                     : 968\n",
            "Image Height                    : 543\n",
            "Bit Depth                       : 8\n",
            "Color Type                      : RGB with Alpha\n",
            "Compression                     : Deflate/Inflate\n",
            "Filter                          : Adaptive\n",
            "Interlace                       : Noninterlaced\n",
            "SRGB Rendering                  : Perceptual\n",
            "Gamma                           : 2.2\n",
            "Pixels Per Unit X               : 4724\n",
            "Pixels Per Unit Y               : 4724\n",
            "Pixel Units                     : meters\n",
            "Image Size                      : 968x543\n",
            "Megapixels                      : 0.526\n",
            "\n"
          ]
        }
      ]
    },
    {
      "cell_type": "markdown",
      "source": [
        "**5. Data Visualization**\n",
        "Matplotlib, Pandas\n",
        "Purpose: Visualize metadata patterns."
      ],
      "metadata": {
        "id": "mBw4mpE2BcfO"
      }
    },
    {
      "cell_type": "code",
      "source": [
        "import pandas as pd\n",
        "import matplotlib.pyplot as plt\n",
        "\n",
        "# Create dummy metadata\n",
        "data = {'Filename': ['file1.jpg', 'file2.jpg'], 'Timestamp': ['2024-12-01', '2024-12-02']}\n",
        "df = pd.DataFrame(data)\n",
        "\n",
        "# Visualize timestamps\n",
        "plt.bar(df['Filename'], pd.to_datetime(df['Timestamp']))\n",
        "plt.title(\"Metadata Visualization\")\n",
        "plt.xlabel(\"Files\")\n",
        "plt.ylabel(\"Timestamp\")\n",
        "plt.show()\n"
      ],
      "metadata": {
        "colab": {
          "base_uri": "https://localhost:8080/",
          "height": 472
        },
        "id": "pKD3PzA9Abv6",
        "outputId": "a2954966-3ca9-47be-9c16-ea2038038ed9"
      },
      "execution_count": null,
      "outputs": [
        {
          "output_type": "display_data",
          "data": {
            "text/plain": [
              "<Figure size 640x480 with 1 Axes>"
            ],
            "image/png": "[encoded data removed]"
          },
          "metadata": {}
        }
      ]
    },
    {
      "cell_type": "markdown",
      "source": [
        "**6. Report Generation**\n",
        "JSON (Python json module)\n",
        "Purpose: Structure forensic data."
      ],
      "metadata": {
        "id": "CuTaY1uNBYtb"
      }
    },
    {
      "cell_type": "code",
      "source": [
        "import json\n",
        "\n",
        "# Forensic report data\n",
        "report_data = {\n",
        "    \"File\": \"example.jpg\",\n",
        "    \"Metadata\": {\n",
        "        \"Timestamp\": \"2024-12-01T12:30:00\",\n",
        "        \"Geolocation\": \"Lat: 37.7749, Long: -122.4194\"\n",
        "    }\n",
        "}\n",
        "\n",
        "# Save report as JSON\n",
        "with open(\"forensic_report.json\", \"w\") as file:\n",
        "    json.dump(report_data, file, indent=4)\n"
      ],
      "metadata": {
        "id": "5nEwO4zfApcv"
      },
      "execution_count": null,
      "outputs": []
    },
    {
      "cell_type": "markdown",
      "source": [
        "**7. File Signature Matching**\n",
        "Custom Python Scripts\n",
        "Purpose: Match file signatures and recover files."
      ],
      "metadata": {
        "id": "-fKwoEmUBkSa"
      }
    },
    {
      "cell_type": "code",
      "source": [
        "def match_file_signature(file_path, signature):\n",
        "    with open(file_path, \"rb\") as file:\n",
        "        content = file.read(len(signature))\n",
        "        return content == signature\n",
        "\n",
        "# Example usage\n",
        "signature = b'\\xff\\xd8\\xff\\xe0'  # JPEG signature\n",
        "print(match_file_signature(\"/content/example.png\", signature))\n"
      ],
      "metadata": {
        "colab": {
          "base_uri": "https://localhost:8080/"
        },
        "id": "KXfE6cZPBv7z",
        "outputId": "64ab241c-b357-4b45-a49a-38e11a255f04"
      },
      "execution_count": null,
      "outputs": [
        {
          "output_type": "stream",
          "name": "stdout",
          "text": [
            "False\n"
          ]
        }
      ]
    },
    {
      "cell_type": "markdown",
      "source": [
        "**8. File Extraction**\n",
        "PyExifTool (Python wrapper)\n",
        "Purpose: Metadata extraction from various file types."
      ],
      "metadata": {
        "id": "nhG3zOsoCF3d"
      }
    }
  ]
}